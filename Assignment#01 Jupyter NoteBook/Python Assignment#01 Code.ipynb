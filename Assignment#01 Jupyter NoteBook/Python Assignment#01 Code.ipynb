{
 "cells": [
  {
   "cell_type": "code",
   "execution_count": 1,
   "id": "a21f42e7",
   "metadata": {},
   "outputs": [
    {
     "name": "stdout",
     "output_type": "stream",
     "text": [
      "This is Assignment#01\n",
      "Output for Question#01: 'Write a PYTHON program to print the following string in given sequence' is:\n",
      " \n",
      "Twinkle, twinkle, little Star,\n",
      "         How I wonder what you are!\n",
      "                 Up above the world so high,\n",
      "                 Like a diamond in the sky.\n",
      "Twinkle, twinkle, little Star,\n",
      "         How I wonder what you are!\n"
     ]
    }
   ],
   "source": [
    "print(\"This is Assignment#01\")\n",
    "print(\"Output for Question#01: 'Write a PYTHON program to print the following string in given sequence' is:\")\n",
    "print(\" \")\n",
    "print('''Twinkle, twinkle, little Star,")
                 How I wonder what you are!")
                         Up above the world so high,")
                         Like a diamond in the sky.")
Twinkle, twinkle, little Star,")
                 How I wonder what you are!''')"
   ]
  },
  {
   "cell_type": "code",
   "execution_count": 2,
   "id": "22af766d",
   "metadata": {},
   "outputs": [
    {
     "name": "stdout",
     "output_type": "stream",
     "text": [
      "Output for Question#02: 'Write a PYTHON program to get the PYTHON version you are using' is: \n",
      " \n",
      "I am using the Python with version\n",
      "3.9.7 (default, Sep 16 2021, 16:59:28) [MSC v.1916 64 bit (AMD64)]\n",
      "Version info.\n",
      "sys.version_info(major=3, minor=9, micro=7, releaselevel='final', serial=0)\n"
     ]
    }
   ],
   "source": [
    "print(\"Output for Question#02: 'Write a PYTHON program to get the PYTHON version you are using' is: \")\n",
    "print(\" \")\n",
    "import sys\n",
    "print(\"I am using the Python with version\")\n",
    "print (sys.version)\n",
    "print(\"Version info.\")\n",
    "print (sys.version_info)"
   ]
  },
  {
   "cell_type": "code",
   "execution_count": 3,
   "id": "3131e313",
   "metadata": {},
   "outputs": [
    {
     "name": "stdout",
     "output_type": "stream",
     "text": [
      "Output for Question#03: 'Write a PYTHON program to display current date&time' is: \n",
      " \n",
      "2021-12-30 20:42:03\n"
     ]
    }
   ],
   "source": [
    "print(\"Output for Question#03: 'Write a PYTHON program to display current date&time' is: \")\n",
    "print(\" \")\n",
    "from datetime import datetime\n",
    "now = datetime.now()\n",
    "print (now.strftime(\"%Y-%m-%d %H:%M:%S\"))"
   ]
  },
  {
   "cell_type": "code",
   "execution_count": 4,
   "id": "e5f8d76c",
   "metadata": {},
   "outputs": [
    {
     "name": "stdout",
     "output_type": "stream",
     "text": [
      "Output for Question#04: 'Write a PYTHON program which accepts radius of a circle & calculates area of the circle' is: \n",
      " \n",
      "Enter radius of the Circle: 10\n",
      "The area of the circle is: \n",
      "314.1592653589793\n"
     ]
    }
   ],
   "source": [
    "print(\"Output for Question#04: 'Write a PYTHON program which accepts radius of a circle & calculates area of the circle' is: \")\n",
    "print(\" \")\n",
    "import math\n",
    "rad = int (input(\"Enter radius of the Circle: \"))\n",
    "area = math.pi * rad * rad\n",
    "print(\"The area of the circle is: \")\n",
    "print(area)"
   ]
  },
  {
   "cell_type": "code",
   "execution_count": 5,
   "id": "254cea37",
   "metadata": {},
   "outputs": [
    {
     "name": "stdout",
     "output_type": "stream",
     "text": [
      "Output for Question#05: 'Write a PYTHON program which accepts user's first & last name and display it in reverse order with a space b/w them' is: \n",
      " \n",
      "Enter your first name: Khuram\n",
      "Enter your last name: Shahzad\n",
      "Shahzad Khuram\n"
     ]
    }
   ],
   "source": [
    "print(\"Output for Question#05: 'Write a PYTHON program which accepts user's first & last name and display it in reverse order with a space b/w them' is: \")\n",
    "print(\" \")\n",
    "fname = input(\"Enter your first name: \")\n",
    "lname = input(\"Enter your last name: \")\n",
    "print (lname +\" \"+ fname)"
   ]
  },
  {
   "cell_type": "code",
   "execution_count": 6,
   "id": "87184263",
   "metadata": {},
   "outputs": [
    {
     "name": "stdout",
     "output_type": "stream",
     "text": [
      "Output for Question#06: 'Write a PYTHON program which accepts two inputs from user & print their sum' is: \n",
      " \n",
      "Please provide only integers..!\n",
      "Enter first number: 12\n",
      "Enter second number: 12\n",
      "The sum of both the numbers is: \n",
      "24\n",
      "The assignment Completed Successfully...\n"
     ]
    }
   ],
   "source": [
    "print(\"Output for Question#06: 'Write a PYTHON program which accepts two inputs from user & print their sum' is: \")\n",
    "print(\" \")\n",
    "print(\"Please provide only integers..!\")\n",
    "input1  = int(input(\"Enter first number: \"))\n",
    "input2  = int(input(\"Enter second number: \"))\n",
    "sum  = input1 + input2\n",
    "print(\"The sum of both the numbers is: \")\n",
    "print(sum)\n",
    "print(\"The assignment Completed Successfully...\")\n"
   ]
  },
  {
   "cell_type": "code",
   "execution_count": null,
   "id": "1e244e6c",
   "metadata": {},
   "outputs": [],
   "source": []
  }
 ],
 "metadata": {
  "kernelspec": {
   "display_name": "Python 3 (ipykernel)",
   "language": "python",
   "name": "python3"
  },
  "language_info": {
   "codemirror_mode": {
    "name": "ipython",
    "version": 3
   },
   "file_extension": ".py",
   "mimetype": "text/x-python",
   "name": "python",
   "nbconvert_exporter": "python",
   "pygments_lexer": "ipython3",
   "version": "3.9.7"
  }
 },
 "nbformat": 4,
 "nbformat_minor": 5
}
