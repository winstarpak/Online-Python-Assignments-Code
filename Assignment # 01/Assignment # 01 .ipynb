{
 "cells": [
  {
   "cell_type": "markdown",
   "id": "0e1e0dbb",
   "metadata": {},
   "source": [
    "# Assignment # 01"
   ]
  },
  {
   "cell_type": "code",
   "execution_count": 1,
   "id": "ead11358-bec1-4d08-9f73-8d85d62e2af4",
   "metadata": {},
   "outputs": [
    {
     "name": "stdout",
     "output_type": "stream",
     "text": [
      "Twinkle, twinkle, little Star,\n",
      "         How I wonder what you are!\n",
      "                 Up above the world so high,\n",
      "                 Like a diamond in the sky.\n",
      "Twinkle, twinkle, little Star,\n",
      "         How I wonder what you are!\n"
     ]
    }
   ],
   "source": [
    "print('''Twinkle, twinkle, little Star,\n",
    "         How I wonder what you are!\n",
    "                 Up above the world so high,\n",
    "                 Like a diamond in the sky.\n",
    "Twinkle, twinkle, little Star,\n",
    "         How I wonder what you are!''')"
   ]
  },
  {
   "cell_type": "code",
   "execution_count": 2,
   "id": "754c88c9-0d3a-4fd6-8c82-351918f39b48",
   "metadata": {},
   "outputs": [
    {
     "name": "stdout",
     "output_type": "stream",
     "text": [
      "Output for Question#02: 'Write a PYTHON program to get the PYTHON version you are using' is: \n",
      "    \n",
      "I am using the Python with version\n",
      "3.9.7 (default, Sep 16 2021, 16:59:28) [MSC v.1916 64 bit (AMD64)]\n",
      "Version info.\n",
      "sys.version_info(major=3, minor=9, micro=7, releaselevel='final', serial=0)\n"
     ]
    }
   ],
   "source": [
    "print('''Output for Question#02: 'Write a PYTHON program to get the PYTHON version you are using' is: \n",
    "    ''')\n",
    "import sys\n",
    "print(\"I am using the Python with version\")\n",
    "print (sys.version)\n",
    "print(\"Version info.\")\n",
    "print (sys.version_info)"
   ]
  },
  {
   "cell_type": "code",
   "execution_count": 3,
   "id": "864cb961-018b-4175-848a-c8fa6b5812f0",
   "metadata": {},
   "outputs": [
    {
     "name": "stdout",
     "output_type": "stream",
     "text": [
      "Output for Question#03: 'Write a PYTHON program to display current date&time' is: \")\n",
      "    \n",
      "2022-01-02 20:42:12\n"
     ]
    }
   ],
   "source": [
    "print('''Output for Question#03: 'Write a PYTHON program to display current date&time' is: \n",
    "    ''')\n",
    "from datetime import datetime\n",
    "now = datetime.now()\n",
    "print (now.strftime(\"%Y-%m-%d %H:%M:%S\"))"
   ]
  },
  {
   "cell_type": "code",
   "execution_count": 4,
   "id": "173ba62a-6e4b-4d1f-ab02-7e0a3a53a5fa",
   "metadata": {},
   "outputs": [
    {
     "name": "stdout",
     "output_type": "stream",
     "text": [
      "Output for Question#04: 'Write a PYTHON program which accepts radius of a circle & calculates area of the circle' is: \")\n",
      "    \n"
     ]
    },
    {
     "name": "stdin",
     "output_type": "stream",
     "text": [
      "Enter radius of the Circle:  10\n"
     ]
    },
    {
     "name": "stdout",
     "output_type": "stream",
     "text": [
      "The area of the circle is: \n",
      "314.1592653589793\n"
     ]
    }
   ],
   "source": [
    "print('''Output for Question#04: 'Write a PYTHON program which accepts radius of a circle & calculates area of the circle' is: \n",
    "    ''')\n",
    "import math\n",
    "rad = int (input(\"Enter radius of the Circle: \"))\n",
    "area = math.pi * rad * rad\n",
    "print(\"The area of the circle is: \")\n",
    "print(area)"
   ]
  },
  {
   "cell_type": "code",
   "execution_count": 5,
   "id": "0f2525c8-f18e-4e59-95f1-4e43ef31698b",
   "metadata": {},
   "outputs": [
    {
     "name": "stdout",
     "output_type": "stream",
     "text": [
      "Output for Question#05: 'Write a PYTHON program which accepts user's first & last name and display it in reverse order with a space b/w them' is: \")\n",
      "    \n"
     ]
    },
    {
     "name": "stdin",
     "output_type": "stream",
     "text": [
      "Enter your first name:  Khuram\n",
      "Enter your last name:  Shahzad\n"
     ]
    },
    {
     "name": "stdout",
     "output_type": "stream",
     "text": [
      "Shahzad Khuram\n"
     ]
    }
   ],
   "source": [
    "print('''Output for Question#05: 'Write a PYTHON program which accepts user's first & last name and display it in reverse order with a space b/w them' is: \n",
    "    ''')\n",
    "fname = input(\"Enter your first name: \")\n",
    "lname = input(\"Enter your last name: \")\n",
    "print (lname +\" \"+ fname)"
   ]
  },
  {
   "cell_type": "code",
   "execution_count": 6,
   "id": "94a3ab53-e612-46c2-8f34-0db630cc5d4e",
   "metadata": {},
   "outputs": [
    {
     "name": "stdout",
     "output_type": "stream",
     "text": [
      "Output for Question#06: 'Write a PYTHON program which accepts two inputs from user & print their sum' is: \n",
      "    \n",
      "Please provide only integers..!\n"
     ]
    },
    {
     "name": "stdin",
     "output_type": "stream",
     "text": [
      "Enter first number:  10\n",
      "Enter second number:  90\n"
     ]
    },
    {
     "name": "stdout",
     "output_type": "stream",
     "text": [
      "The sum of both the numbers is: \n",
      "100\n",
      "The assignment Completed Successfully...\n"
     ]
    }
   ],
   "source": [
    "print('''Output for Question#06: 'Write a PYTHON program which accepts two inputs from user & print their sum' is: \n",
    "    ''')\n",
    "print(\"Please provide only integers..!\")\n",
    "input1  = int(input(\"Enter first number: \"))\n",
    "input2  = int(input(\"Enter second number: \"))\n",
    "sum  = input1 + input2\n",
    "print(\"The sum of both the numbers is: \")\n",
    "print(sum)\n",
    "print(\"The assignment Completed Successfully...\")"
   ]
  },
  {
   "cell_type": "code",
   "execution_count": null,
   "id": "e6d5963d-f76f-46bd-a6e5-162811cec14a",
   "metadata": {},
   "outputs": [],
   "source": []
  }
 ],
 "metadata": {
  "kernelspec": {
   "display_name": "Python 3 (ipykernel)",
   "language": "python",
   "name": "python3"
  },
  "language_info": {
   "codemirror_mode": {
    "name": "ipython",
    "version": 3
   },
   "file_extension": ".py",
   "mimetype": "text/x-python",
   "name": "python",
   "nbconvert_exporter": "python",
   "pygments_lexer": "ipython3",
   "version": "3.9.7"
  }
 },
 "nbformat": 4,
 "nbformat_minor": 5
}
